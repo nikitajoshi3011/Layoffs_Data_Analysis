{
 "cells": [
  {
   "cell_type": "markdown",
   "id": "50a0448a",
   "metadata": {},
   "source": [
    "#                            Layoffs Data Analysis using Python"
   ]
  },
  {
   "cell_type": "markdown",
   "id": "ba9d7938",
   "metadata": {},
   "source": [
    "## Nikita Joshi"
   ]
  },
  {
   "cell_type": "markdown",
   "id": "2afd4b49",
   "metadata": {},
   "source": [
    "### Linkedin- https://www.linkedin.com/in/nikita-joshi-0bba471a4/"
   ]
  },
  {
   "cell_type": "raw",
   "id": "e44df8dd",
   "metadata": {},
   "source": [
    "Importing basic libraries and will import necessary libraries as and when needed."
   ]
  },
  {
   "cell_type": "code",
   "execution_count": 1,
   "id": "45c52575",
   "metadata": {},
   "outputs": [],
   "source": [
    "#numerical python for mathematical functions\n",
    "import numpy as np\n",
    "\n",
    "#pandas library\n",
    "import pandas as pd\n",
    "\n",
    "#matplotlib library\n",
    "import matplotlib.pyplot as plt\n",
    "\n",
    "#seaborn library\n",
    "import seaborn as sns\n",
    "\n",
    "# to suppress warnings \n",
    "from warnings import filterwarnings\n",
    "filterwarnings('ignore')\n",
    "\n",
    "# display all columns of the dataframe\n",
    "pd.options.display.max_columns = None\n",
    "\n",
    "# display all rows of the dataframe\n",
    "pd.options.display.max_rows = None\n",
    "\n",
    "plt.rcParams['figure.figsize'] = (14, 10) "
   ]
  },
  {
   "cell_type": "code",
   "execution_count": 2,
   "id": "99bdda87",
   "metadata": {},
   "outputs": [
    {
     "data": {
      "text/html": [
       "<div>\n",
       "<style scoped>\n",
       "    .dataframe tbody tr th:only-of-type {\n",
       "        vertical-align: middle;\n",
       "    }\n",
       "\n",
       "    .dataframe tbody tr th {\n",
       "        vertical-align: top;\n",
       "    }\n",
       "\n",
       "    .dataframe thead th {\n",
       "        text-align: right;\n",
       "    }\n",
       "</style>\n",
       "<table border=\"1\" class=\"dataframe\">\n",
       "  <thead>\n",
       "    <tr style=\"text-align: right;\">\n",
       "      <th></th>\n",
       "      <th>company</th>\n",
       "      <th>location</th>\n",
       "      <th>industry</th>\n",
       "      <th>total_laid_off</th>\n",
       "      <th>percentage_laid_off</th>\n",
       "      <th>date</th>\n",
       "      <th>stage</th>\n",
       "      <th>country</th>\n",
       "      <th>funds_raised</th>\n",
       "    </tr>\n",
       "  </thead>\n",
       "  <tbody>\n",
       "    <tr>\n",
       "      <th>0</th>\n",
       "      <td>Airtable</td>\n",
       "      <td>SF Bay Area</td>\n",
       "      <td>Product</td>\n",
       "      <td>237.0</td>\n",
       "      <td>0.27</td>\n",
       "      <td>2023-09-14</td>\n",
       "      <td>Series F</td>\n",
       "      <td>United States</td>\n",
       "      <td>1400.0</td>\n",
       "    </tr>\n",
       "    <tr>\n",
       "      <th>1</th>\n",
       "      <td>R3</td>\n",
       "      <td>New York City</td>\n",
       "      <td>Crypto</td>\n",
       "      <td>NaN</td>\n",
       "      <td>0.20</td>\n",
       "      <td>2023-09-14</td>\n",
       "      <td>Series A</td>\n",
       "      <td>United States</td>\n",
       "      <td>112.0</td>\n",
       "    </tr>\n",
       "    <tr>\n",
       "      <th>2</th>\n",
       "      <td>Akili Labs</td>\n",
       "      <td>Boston</td>\n",
       "      <td>Healthcare</td>\n",
       "      <td>NaN</td>\n",
       "      <td>0.40</td>\n",
       "      <td>2023-09-13</td>\n",
       "      <td>Post-IPO</td>\n",
       "      <td>United States</td>\n",
       "      <td>301.0</td>\n",
       "    </tr>\n",
       "    <tr>\n",
       "      <th>3</th>\n",
       "      <td>Google</td>\n",
       "      <td>SF Bay Area</td>\n",
       "      <td>Consumer</td>\n",
       "      <td>NaN</td>\n",
       "      <td>NaN</td>\n",
       "      <td>2023-09-13</td>\n",
       "      <td>Post-IPO</td>\n",
       "      <td>United States</td>\n",
       "      <td>26.0</td>\n",
       "    </tr>\n",
       "    <tr>\n",
       "      <th>4</th>\n",
       "      <td>Evolve</td>\n",
       "      <td>Denver</td>\n",
       "      <td>Travel</td>\n",
       "      <td>175.0</td>\n",
       "      <td>0.20</td>\n",
       "      <td>2023-09-12</td>\n",
       "      <td>Series F</td>\n",
       "      <td>United States</td>\n",
       "      <td>224.0</td>\n",
       "    </tr>\n",
       "  </tbody>\n",
       "</table>\n",
       "</div>"
      ],
      "text/plain": [
       "      company       location    industry  total_laid_off  percentage_laid_off  \\\n",
       "0    Airtable    SF Bay Area     Product           237.0                 0.27   \n",
       "1          R3  New York City      Crypto             NaN                 0.20   \n",
       "2  Akili Labs         Boston  Healthcare             NaN                 0.40   \n",
       "3      Google    SF Bay Area    Consumer             NaN                  NaN   \n",
       "4      Evolve         Denver      Travel           175.0                 0.20   \n",
       "\n",
       "         date     stage        country  funds_raised  \n",
       "0  2023-09-14  Series F  United States        1400.0  \n",
       "1  2023-09-14  Series A  United States         112.0  \n",
       "2  2023-09-13  Post-IPO  United States         301.0  \n",
       "3  2023-09-13  Post-IPO  United States          26.0  \n",
       "4  2023-09-12  Series F  United States         224.0  "
      ]
     },
     "execution_count": 2,
     "metadata": {},
     "output_type": "execute_result"
    }
   ],
   "source": [
    "df_layoff = pd.read_csv('layoffs.csv')\n",
    "df_layoff.head()"
   ]
  },
  {
   "cell_type": "markdown",
   "id": "2319bb9d",
   "metadata": {},
   "source": [
    "#### DATA DICTIONARY"
   ]
  },
  {
   "cell_type": "raw",
   "id": "1c81fc03",
   "metadata": {},
   "source": [
    "company-Name of the company\n",
    "location-Location of company headquarters\n",
    "industry-Industry of the company\n",
    "total_laid_off-Number of employees laid off\n",
    "percentage_laid_off-Percentage of employees laid off\n",
    "date-Date of layoff\n",
    "stage-Stage of funding\n",
    "country-Country\n",
    "funds_raised-Funds raised by the company (in Millions)"
   ]
  },
  {
   "cell_type": "code",
   "execution_count": 3,
   "id": "b473467c",
   "metadata": {},
   "outputs": [
    {
     "data": {
      "text/plain": [
       "(3022, 9)"
      ]
     },
     "execution_count": 3,
     "metadata": {},
     "output_type": "execute_result"
    }
   ],
   "source": [
    "df_layoff.shape   #Number of rows and columns in the dataset"
   ]
  },
  {
   "cell_type": "code",
   "execution_count": 4,
   "id": "24c96443",
   "metadata": {},
   "outputs": [
    {
     "name": "stdout",
     "output_type": "stream",
     "text": [
      "<class 'pandas.core.frame.DataFrame'>\n",
      "RangeIndex: 3022 entries, 0 to 3021\n",
      "Data columns (total 9 columns):\n",
      " #   Column               Non-Null Count  Dtype  \n",
      "---  ------               --------------  -----  \n",
      " 0   company              3022 non-null   object \n",
      " 1   location             3022 non-null   object \n",
      " 2   industry             3022 non-null   object \n",
      " 3   total_laid_off       2031 non-null   float64\n",
      " 4   percentage_laid_off  1972 non-null   float64\n",
      " 5   date                 3022 non-null   object \n",
      " 6   stage                3015 non-null   object \n",
      " 7   country              3022 non-null   object \n",
      " 8   funds_raised         2715 non-null   float64\n",
      "dtypes: float64(3), object(6)\n",
      "memory usage: 212.6+ KB\n"
     ]
    }
   ],
   "source": [
    "df_layoff.info()   #Gives all the features name, null value count and data type of all the features in the dataset"
   ]
  },
  {
   "cell_type": "raw",
   "id": "535b0476",
   "metadata": {},
   "source": [
    "Data type for all the features is aligned correctly. However we will be changing the data type for date to datetime to convert it to a pandas object."
   ]
  },
  {
   "cell_type": "code",
   "execution_count": 5,
   "id": "c6a812a4",
   "metadata": {},
   "outputs": [],
   "source": [
    "df_layoff.date = pd.to_datetime(df_layoff.date)"
   ]
  },
  {
   "cell_type": "raw",
   "id": "898df27d",
   "metadata": {},
   "source": [
    "Rechecking for the data type to verify if the changes are implemented correctly."
   ]
  },
  {
   "cell_type": "code",
   "execution_count": 6,
   "id": "0e400088",
   "metadata": {},
   "outputs": [
    {
     "data": {
      "text/plain": [
       "company                        object\n",
       "location                       object\n",
       "industry                       object\n",
       "total_laid_off                float64\n",
       "percentage_laid_off           float64\n",
       "date                   datetime64[ns]\n",
       "stage                          object\n",
       "country                        object\n",
       "funds_raised                  float64\n",
       "dtype: object"
      ]
     },
     "execution_count": 6,
     "metadata": {},
     "output_type": "execute_result"
    }
   ],
   "source": [
    "df_layoff.dtypes"
   ]
  },
  {
   "cell_type": "code",
   "execution_count": 7,
   "id": "84f8a0f5",
   "metadata": {},
   "outputs": [
    {
     "data": {
      "text/html": [
       "<div>\n",
       "<style scoped>\n",
       "    .dataframe tbody tr th:only-of-type {\n",
       "        vertical-align: middle;\n",
       "    }\n",
       "\n",
       "    .dataframe tbody tr th {\n",
       "        vertical-align: top;\n",
       "    }\n",
       "\n",
       "    .dataframe thead th {\n",
       "        text-align: right;\n",
       "    }\n",
       "</style>\n",
       "<table border=\"1\" class=\"dataframe\">\n",
       "  <thead>\n",
       "    <tr style=\"text-align: right;\">\n",
       "      <th></th>\n",
       "      <th>company</th>\n",
       "      <th>location</th>\n",
       "      <th>industry</th>\n",
       "      <th>total_laid_off</th>\n",
       "      <th>percentage_laid_off</th>\n",
       "      <th>date</th>\n",
       "      <th>stage</th>\n",
       "      <th>country</th>\n",
       "      <th>funds_raised</th>\n",
       "    </tr>\n",
       "  </thead>\n",
       "  <tbody>\n",
       "    <tr>\n",
       "      <th>count</th>\n",
       "      <td>3022</td>\n",
       "      <td>3022</td>\n",
       "      <td>3022</td>\n",
       "      <td>2031.000000</td>\n",
       "      <td>1972.000000</td>\n",
       "      <td>3022</td>\n",
       "      <td>3015</td>\n",
       "      <td>3022</td>\n",
       "      <td>2715.000000</td>\n",
       "    </tr>\n",
       "    <tr>\n",
       "      <th>unique</th>\n",
       "      <td>2304</td>\n",
       "      <td>222</td>\n",
       "      <td>30</td>\n",
       "      <td>NaN</td>\n",
       "      <td>NaN</td>\n",
       "      <td>641</td>\n",
       "      <td>16</td>\n",
       "      <td>63</td>\n",
       "      <td>NaN</td>\n",
       "    </tr>\n",
       "    <tr>\n",
       "      <th>top</th>\n",
       "      <td>Uber</td>\n",
       "      <td>SF Bay Area</td>\n",
       "      <td>Finance</td>\n",
       "      <td>NaN</td>\n",
       "      <td>NaN</td>\n",
       "      <td>2020-04-02 00:00:00</td>\n",
       "      <td>Post-IPO</td>\n",
       "      <td>United States</td>\n",
       "      <td>NaN</td>\n",
       "    </tr>\n",
       "    <tr>\n",
       "      <th>freq</th>\n",
       "      <td>6</td>\n",
       "      <td>749</td>\n",
       "      <td>373</td>\n",
       "      <td>NaN</td>\n",
       "      <td>NaN</td>\n",
       "      <td>27</td>\n",
       "      <td>589</td>\n",
       "      <td>1940</td>\n",
       "      <td>NaN</td>\n",
       "    </tr>\n",
       "    <tr>\n",
       "      <th>first</th>\n",
       "      <td>NaN</td>\n",
       "      <td>NaN</td>\n",
       "      <td>NaN</td>\n",
       "      <td>NaN</td>\n",
       "      <td>NaN</td>\n",
       "      <td>2020-03-11 00:00:00</td>\n",
       "      <td>NaN</td>\n",
       "      <td>NaN</td>\n",
       "      <td>NaN</td>\n",
       "    </tr>\n",
       "    <tr>\n",
       "      <th>last</th>\n",
       "      <td>NaN</td>\n",
       "      <td>NaN</td>\n",
       "      <td>NaN</td>\n",
       "      <td>NaN</td>\n",
       "      <td>NaN</td>\n",
       "      <td>2023-09-14 00:00:00</td>\n",
       "      <td>NaN</td>\n",
       "      <td>NaN</td>\n",
       "      <td>NaN</td>\n",
       "    </tr>\n",
       "    <tr>\n",
       "      <th>mean</th>\n",
       "      <td>NaN</td>\n",
       "      <td>NaN</td>\n",
       "      <td>NaN</td>\n",
       "      <td>244.819793</td>\n",
       "      <td>0.269456</td>\n",
       "      <td>NaN</td>\n",
       "      <td>NaN</td>\n",
       "      <td>NaN</td>\n",
       "      <td>765.518783</td>\n",
       "    </tr>\n",
       "    <tr>\n",
       "      <th>std</th>\n",
       "      <td>NaN</td>\n",
       "      <td>NaN</td>\n",
       "      <td>NaN</td>\n",
       "      <td>790.585013</td>\n",
       "      <td>0.270384</td>\n",
       "      <td>NaN</td>\n",
       "      <td>NaN</td>\n",
       "      <td>NaN</td>\n",
       "      <td>5053.804174</td>\n",
       "    </tr>\n",
       "    <tr>\n",
       "      <th>min</th>\n",
       "      <td>NaN</td>\n",
       "      <td>NaN</td>\n",
       "      <td>NaN</td>\n",
       "      <td>3.000000</td>\n",
       "      <td>0.000000</td>\n",
       "      <td>NaN</td>\n",
       "      <td>NaN</td>\n",
       "      <td>NaN</td>\n",
       "      <td>0.000000</td>\n",
       "    </tr>\n",
       "    <tr>\n",
       "      <th>25%</th>\n",
       "      <td>NaN</td>\n",
       "      <td>NaN</td>\n",
       "      <td>NaN</td>\n",
       "      <td>40.000000</td>\n",
       "      <td>0.100000</td>\n",
       "      <td>NaN</td>\n",
       "      <td>NaN</td>\n",
       "      <td>NaN</td>\n",
       "      <td>50.000000</td>\n",
       "    </tr>\n",
       "    <tr>\n",
       "      <th>50%</th>\n",
       "      <td>NaN</td>\n",
       "      <td>NaN</td>\n",
       "      <td>NaN</td>\n",
       "      <td>80.000000</td>\n",
       "      <td>0.170000</td>\n",
       "      <td>NaN</td>\n",
       "      <td>NaN</td>\n",
       "      <td>NaN</td>\n",
       "      <td>156.000000</td>\n",
       "    </tr>\n",
       "    <tr>\n",
       "      <th>75%</th>\n",
       "      <td>NaN</td>\n",
       "      <td>NaN</td>\n",
       "      <td>NaN</td>\n",
       "      <td>180.000000</td>\n",
       "      <td>0.300000</td>\n",
       "      <td>NaN</td>\n",
       "      <td>NaN</td>\n",
       "      <td>NaN</td>\n",
       "      <td>429.000000</td>\n",
       "    </tr>\n",
       "    <tr>\n",
       "      <th>max</th>\n",
       "      <td>NaN</td>\n",
       "      <td>NaN</td>\n",
       "      <td>NaN</td>\n",
       "      <td>12000.000000</td>\n",
       "      <td>1.000000</td>\n",
       "      <td>NaN</td>\n",
       "      <td>NaN</td>\n",
       "      <td>NaN</td>\n",
       "      <td>121900.000000</td>\n",
       "    </tr>\n",
       "  </tbody>\n",
       "</table>\n",
       "</div>"
      ],
      "text/plain": [
       "       company     location industry  total_laid_off  percentage_laid_off  \\\n",
       "count     3022         3022     3022     2031.000000          1972.000000   \n",
       "unique    2304          222       30             NaN                  NaN   \n",
       "top       Uber  SF Bay Area  Finance             NaN                  NaN   \n",
       "freq         6          749      373             NaN                  NaN   \n",
       "first      NaN          NaN      NaN             NaN                  NaN   \n",
       "last       NaN          NaN      NaN             NaN                  NaN   \n",
       "mean       NaN          NaN      NaN      244.819793             0.269456   \n",
       "std        NaN          NaN      NaN      790.585013             0.270384   \n",
       "min        NaN          NaN      NaN        3.000000             0.000000   \n",
       "25%        NaN          NaN      NaN       40.000000             0.100000   \n",
       "50%        NaN          NaN      NaN       80.000000             0.170000   \n",
       "75%        NaN          NaN      NaN      180.000000             0.300000   \n",
       "max        NaN          NaN      NaN    12000.000000             1.000000   \n",
       "\n",
       "                       date     stage        country   funds_raised  \n",
       "count                  3022      3015           3022    2715.000000  \n",
       "unique                  641        16             63            NaN  \n",
       "top     2020-04-02 00:00:00  Post-IPO  United States            NaN  \n",
       "freq                     27       589           1940            NaN  \n",
       "first   2020-03-11 00:00:00       NaN            NaN            NaN  \n",
       "last    2023-09-14 00:00:00       NaN            NaN            NaN  \n",
       "mean                    NaN       NaN            NaN     765.518783  \n",
       "std                     NaN       NaN            NaN    5053.804174  \n",
       "min                     NaN       NaN            NaN       0.000000  \n",
       "25%                     NaN       NaN            NaN      50.000000  \n",
       "50%                     NaN       NaN            NaN     156.000000  \n",
       "75%                     NaN       NaN            NaN     429.000000  \n",
       "max                     NaN       NaN            NaN  121900.000000  "
      ]
     },
     "execution_count": 7,
     "metadata": {},
     "output_type": "execute_result"
    }
   ],
   "source": [
    "df_layoff.describe(include='all')  #gives 5 point summary of all the features in the dataset"
   ]
  },
  {
   "cell_type": "raw",
   "id": "b4a7ab81",
   "metadata": {},
   "source": [
    "There are null values present in many features. Let's check for the percentage of null values in the columns"
   ]
  },
  {
   "cell_type": "code",
   "execution_count": 8,
   "id": "aaa4a824",
   "metadata": {},
   "outputs": [
    {
     "name": "stdout",
     "output_type": "stream",
     "text": [
      "The percentage of null values in the dataset is as follows:\n",
      "company                 0.000000\n",
      "location                0.000000\n",
      "industry                0.000000\n",
      "total_laid_off         32.792852\n",
      "percentage_laid_off    34.745202\n",
      "date                    0.000000\n",
      "stage                   0.231635\n",
      "country                 0.000000\n",
      "funds_raised           10.158835\n",
      "dtype: float64\n"
     ]
    }
   ],
   "source": [
    "nv_pct = (df_layoff.isnull().sum()/len(df_layoff))*100\n",
    "print(\"The percentage of null values in the dataset is as follows:\")\n",
    "print(nv_pct)"
   ]
  },
  {
   "cell_type": "raw",
   "id": "98d8dafc",
   "metadata": {},
   "source": [
    "The major null values are in columns total_laid_off, percentage_laid_off, funds_raised and very less null values in stage.Let's check and analyze the data more rigorously to treat the null values in the dataset."
   ]
  },
  {
   "cell_type": "markdown",
   "id": "475c9850",
   "metadata": {},
   "source": [
    "### UNIVARIATE ANALYSIS OF FEATURES"
   ]
  },
  {
   "cell_type": "code",
   "execution_count": 9,
   "id": "da0cf9c1",
   "metadata": {},
   "outputs": [],
   "source": [
    "df_layoff_num = df_layoff.select_dtypes(include=np.number)\n",
    "df_layoff_cat = df_layoff.select_dtypes(include='object')"
   ]
  },
  {
   "cell_type": "code",
   "execution_count": 10,
   "id": "d99099df",
   "metadata": {},
   "outputs": [
    {
     "data": {
      "image/png": "[encoded data removed]",
      "text/plain": [
       "<Figure size 864x864 with 3 Axes>"
      ]
     },
     "metadata": {
      "needs_background": "light"
     },
     "output_type": "display_data"
    }
   ],
   "source": [
    "#Plotting a boxplot for all the numerical features\n",
    "fig,ax = plt.subplots(nrows=3,ncols=1,figsize=(12,12))\n",
    "\n",
    "for col,subplot in zip(df_layoff_num,ax.flatten()):\n",
    "    sns.boxplot(df_layoff_num[col],ax=subplot)\n",
    "    \n",
    "plt.tight_layout()\n",
    "plt.show()"
   ]
  },
  {
   "cell_type": "raw",
   "id": "28664680",
   "metadata": {},
   "source": [
    "Doing a pairplot to check the relationship amongst all the features in the dataset from seaborn library."
   ]
  },
  {
   "cell_type": "code",
   "execution_count": 11,
   "id": "c016ff86",
   "metadata": {},
   "outputs": [
    {
     "data": {
      "text/plain": [
       "<seaborn.axisgrid.PairGrid at 0x186295a2220>"
      ]
     },
     "execution_count": 11,
     "metadata": {},
     "output_type": "execute_result"
    },
    {
     "data": {
      "image/png": "[encoded data removed]",
      "text/plain": [
       "<Figure size 540x540 with 12 Axes>"
      ]
     },
     "metadata": {
      "needs_background": "light"
     },
     "output_type": "display_data"
    }
   ],
   "source": [
    "sns.pairplot(df_layoff)"
   ]
  },
  {
   "cell_type": "markdown",
   "id": "3606586b",
   "metadata": {},
   "source": [
    "### Feature: total_laid_off"
   ]
  },
  {
   "cell_type": "code",
   "execution_count": 12,
   "id": "10b9f87b",
   "metadata": {},
   "outputs": [],
   "source": [
    "#Using simple imputer from sklearn to fill null values in total_laid_off column\n",
    "from sklearn.impute import SimpleImputer\n",
    "\n",
    "# Create a SimpleImputer instance with median as mean is not appropriate because of extreme values\n",
    "imputer = SimpleImputer(strategy='median')  \n",
    "\n",
    "# Fit the imputer to the selected column\n",
    "imputer.fit(df_layoff_num[['total_laid_off']])\n",
    "\n",
    "# Transform and replace the missing values in the DataFrame\n",
    "df_layoff_num[['total_laid_off']] = imputer.transform(df_layoff_num[['total_laid_off']])"
   ]
  },
  {
   "cell_type": "code",
   "execution_count": 13,
   "id": "970f2e2c",
   "metadata": {},
   "outputs": [
    {
     "data": {
      "text/plain": [
       "0"
      ]
     },
     "execution_count": 13,
     "metadata": {},
     "output_type": "execute_result"
    }
   ],
   "source": [
    "df_layoff_num['total_laid_off'].isnull().sum()  #Null values are imputed using SI with median in total_laid_off"
   ]
  },
  {
   "cell_type": "markdown",
   "id": "05e1486a",
   "metadata": {},
   "source": [
    "### Feature: funds_raised"
   ]
  },
  {
   "cell_type": "code",
   "execution_count": 14,
   "id": "7f80c667",
   "metadata": {},
   "outputs": [],
   "source": [
    "#Using simple imputer from sklearn to fill null values in funds_raised column\n",
    "from sklearn.impute import SimpleImputer\n",
    "\n",
    "# Create a SimpleImputer instance with median as mean is not appropriate because of extreme values\n",
    "imputer = SimpleImputer(strategy='median')  \n",
    "\n",
    "# Fit the imputer to the selected column\n",
    "imputer.fit(df_layoff_num[['funds_raised']])\n",
    "\n",
    "# Transform and replace the missing values in the DataFrame\n",
    "df_layoff_num[['funds_raised']] = imputer.transform(df_layoff_num[['funds_raised']])"
   ]
  },
  {
   "cell_type": "code",
   "execution_count": 15,
   "id": "86b4565a",
   "metadata": {},
   "outputs": [
    {
     "data": {
      "text/plain": [
       "0"
      ]
     },
     "execution_count": 15,
     "metadata": {},
     "output_type": "execute_result"
    }
   ],
   "source": [
    "df_layoff_num['funds_raised'].isnull().sum()  #Null values are imputed using SI with median in funds_raised"
   ]
  },
  {
   "cell_type": "markdown",
   "id": "9d4190cd",
   "metadata": {},
   "source": [
    "### Feature:percentage_laid_off"
   ]
  },
  {
   "cell_type": "code",
   "execution_count": 16,
   "id": "705cb1ac",
   "metadata": {},
   "outputs": [],
   "source": [
    "#Using simple imputer from sklearn to fill null values in percentage_laid_off column\n",
    "from sklearn.impute import SimpleImputer\n",
    "\n",
    "# Create a SimpleImputer instance with median as mean is not appropriate because of extreme values\n",
    "imputer = SimpleImputer(strategy='median')  \n",
    "\n",
    "# Fit the imputer to the selected column\n",
    "imputer.fit(df_layoff_num[['percentage_laid_off']])\n",
    "\n",
    "# Transform and replace the missing values in the DataFrame\n",
    "df_layoff_num[['percentage_laid_off']] = imputer.transform(df_layoff_num[['percentage_laid_off']])"
   ]
  },
  {
   "cell_type": "code",
   "execution_count": 17,
   "id": "cbdde01c",
   "metadata": {},
   "outputs": [
    {
     "data": {
      "text/plain": [
       "0"
      ]
     },
     "execution_count": 17,
     "metadata": {},
     "output_type": "execute_result"
    }
   ],
   "source": [
    "df_layoff_num['percentage_laid_off'].isnull().sum()  #Null values are imputed using SI with median in percentage_laid_off"
   ]
  },
  {
   "cell_type": "markdown",
   "id": "169b7ff5",
   "metadata": {},
   "source": [
    "### Feature:stage"
   ]
  },
  {
   "cell_type": "code",
   "execution_count": 18,
   "id": "2bd679f4",
   "metadata": {},
   "outputs": [
    {
     "data": {
      "text/plain": [
       "Post-IPO          589\n",
       "Unknown           504\n",
       "Series B          371\n",
       "Series C          365\n",
       "Series D          274\n",
       "Acquired          237\n",
       "Series A          222\n",
       "Series E          146\n",
       "Seed               96\n",
       "Series F           81\n",
       "Private Equity     53\n",
       "Series H           28\n",
       "Series G           18\n",
       "Subsidiary         15\n",
       "Series I            8\n",
       "Series J            8\n",
       "Name: stage, dtype: int64"
      ]
     },
     "execution_count": 18,
     "metadata": {},
     "output_type": "execute_result"
    }
   ],
   "source": [
    "df_layoff_cat.stage.value_counts()"
   ]
  },
  {
   "cell_type": "code",
   "execution_count": 19,
   "id": "7b8f5b92",
   "metadata": {},
   "outputs": [
    {
     "data": {
      "image/png": "[encoded data removed]",
      "text/plain": [
       "<Figure size 1008x720 with 1 Axes>"
      ]
     },
     "metadata": {
      "needs_background": "light"
     },
     "output_type": "display_data"
    }
   ],
   "source": [
    "sns.countplot(df_layoff_cat.stage)\n",
    "plt.xticks(rotation=45)\n",
    "plt.show()"
   ]
  },
  {
   "cell_type": "code",
   "execution_count": 20,
   "id": "48a9da76",
   "metadata": {},
   "outputs": [
    {
     "data": {
      "text/plain": [
       "7"
      ]
     },
     "execution_count": 20,
     "metadata": {},
     "output_type": "execute_result"
    }
   ],
   "source": [
    "df_layoff_cat.stage.isnull().sum()"
   ]
  },
  {
   "cell_type": "code",
   "execution_count": 21,
   "id": "b2b5af34",
   "metadata": {},
   "outputs": [],
   "source": [
    "#As the null value count is way too less using mode to impute the null value\n",
    "\n",
    "df_layoff_cat.stage = df_layoff_cat.stage.fillna('mode')"
   ]
  },
  {
   "cell_type": "code",
   "execution_count": 22,
   "id": "62eb8c5f",
   "metadata": {},
   "outputs": [
    {
     "data": {
      "text/plain": [
       "0"
      ]
     },
     "execution_count": 22,
     "metadata": {},
     "output_type": "execute_result"
    }
   ],
   "source": [
    "df_layoff_cat.stage.isnull().sum()   #null values imputed"
   ]
  },
  {
   "cell_type": "markdown",
   "id": "215fcd1f",
   "metadata": {},
   "source": [
    "-----------------------------------------"
   ]
  },
  {
   "cell_type": "code",
   "execution_count": 23,
   "id": "3a9c1628",
   "metadata": {},
   "outputs": [
    {
     "data": {
      "text/plain": [
       "Index(['company', 'location', 'industry', 'total_laid_off',\n",
       "       'percentage_laid_off', 'date', 'stage', 'country', 'funds_raised'],\n",
       "      dtype='object')"
      ]
     },
     "execution_count": 23,
     "metadata": {},
     "output_type": "execute_result"
    }
   ],
   "source": [
    "df_layoff.columns"
   ]
  },
  {
   "cell_type": "markdown",
   "id": "345a1b09",
   "metadata": {},
   "source": [
    "#### Country VS Total laid off"
   ]
  },
  {
   "cell_type": "code",
   "execution_count": 24,
   "id": "34bcd05d",
   "metadata": {},
   "outputs": [
    {
     "data": {
      "image/png": "[encoded data removed]",
      "text/plain": [
       "<Figure size 1440x1440 with 1 Axes>"
      ]
     },
     "metadata": {
      "needs_background": "light"
     },
     "output_type": "display_data"
    }
   ],
   "source": [
    "plt.figure(figsize=(20,20))\n",
    "sns.barplot(df_layoff_cat.country,df_layoff_num['total_laid_off'])\n",
    "plt.xticks(rotation=90)\n",
    "plt.show()"
   ]
  },
  {
   "cell_type": "raw",
   "id": "5e86f726",
   "metadata": {},
   "source": [
    "The top five countries who has done maximum layoffs are Netherlands followed by  Cayman Islands > Sweden > Russia > Saudi Arabia."
   ]
  },
  {
   "cell_type": "code",
   "execution_count": 25,
   "id": "6c1c5aa0",
   "metadata": {},
   "outputs": [
    {
     "data": {
      "text/plain": [
       "30"
      ]
     },
     "execution_count": 25,
     "metadata": {},
     "output_type": "execute_result"
    }
   ],
   "source": [
    "df_layoff_cat.industry.nunique()"
   ]
  },
  {
   "cell_type": "markdown",
   "id": "39ec1f13",
   "metadata": {},
   "source": [
    "### Industry VS Total laid off"
   ]
  },
  {
   "cell_type": "code",
   "execution_count": 26,
   "id": "3676dc5c",
   "metadata": {},
   "outputs": [
    {
     "data": {
      "image/png": "[encoded data removed]",
      "text/plain": [
       "<Figure size 1440x1440 with 1 Axes>"
      ]
     },
     "metadata": {
      "needs_background": "light"
     },
     "output_type": "display_data"
    }
   ],
   "source": [
    "plt.figure(figsize=(20,20))\n",
    "sns.barplot(df_layoff_cat.industry,df_layoff_num['total_laid_off'])\n",
    "plt.xticks(rotation=90)\n",
    "plt.show()"
   ]
  },
  {
   "cell_type": "raw",
   "id": "93c2fb0c",
   "metadata": {},
   "source": [
    "If we look at the industry vs total laid off plot, the top 5 industries that has done maximum layoffs are Hardware followed by Consumer> Sales, Travel, Retail, Other> Transportation> Construction."
   ]
  },
  {
   "cell_type": "code",
   "execution_count": 48,
   "id": "d06ed3b8",
   "metadata": {},
   "outputs": [
    {
     "data": {
      "text/html": [
       "<div>\n",
       "<style scoped>\n",
       "    .dataframe tbody tr th:only-of-type {\n",
       "        vertical-align: middle;\n",
       "    }\n",
       "\n",
       "    .dataframe tbody tr th {\n",
       "        vertical-align: top;\n",
       "    }\n",
       "\n",
       "    .dataframe thead th {\n",
       "        text-align: right;\n",
       "    }\n",
       "</style>\n",
       "<table border=\"1\" class=\"dataframe\">\n",
       "  <thead>\n",
       "    <tr style=\"text-align: right;\">\n",
       "      <th></th>\n",
       "      <th>total_laid_off</th>\n",
       "      <th>percentage_laid_off</th>\n",
       "      <th>funds_raised</th>\n",
       "      <th>company</th>\n",
       "      <th>location</th>\n",
       "      <th>industry</th>\n",
       "      <th>stage</th>\n",
       "      <th>country</th>\n",
       "    </tr>\n",
       "  </thead>\n",
       "  <tbody>\n",
       "    <tr>\n",
       "      <th>0</th>\n",
       "      <td>237.0</td>\n",
       "      <td>0.27</td>\n",
       "      <td>1400.0</td>\n",
       "      <td>Airtable</td>\n",
       "      <td>SF Bay Area</td>\n",
       "      <td>Product</td>\n",
       "      <td>Series F</td>\n",
       "      <td>United States</td>\n",
       "    </tr>\n",
       "    <tr>\n",
       "      <th>1</th>\n",
       "      <td>80.0</td>\n",
       "      <td>0.20</td>\n",
       "      <td>112.0</td>\n",
       "      <td>R3</td>\n",
       "      <td>New York City</td>\n",
       "      <td>Crypto</td>\n",
       "      <td>Series A</td>\n",
       "      <td>United States</td>\n",
       "    </tr>\n",
       "    <tr>\n",
       "      <th>2</th>\n",
       "      <td>80.0</td>\n",
       "      <td>0.40</td>\n",
       "      <td>301.0</td>\n",
       "      <td>Akili Labs</td>\n",
       "      <td>Boston</td>\n",
       "      <td>Healthcare</td>\n",
       "      <td>Post-IPO</td>\n",
       "      <td>United States</td>\n",
       "    </tr>\n",
       "    <tr>\n",
       "      <th>3</th>\n",
       "      <td>80.0</td>\n",
       "      <td>0.17</td>\n",
       "      <td>26.0</td>\n",
       "      <td>Google</td>\n",
       "      <td>SF Bay Area</td>\n",
       "      <td>Consumer</td>\n",
       "      <td>Post-IPO</td>\n",
       "      <td>United States</td>\n",
       "    </tr>\n",
       "    <tr>\n",
       "      <th>4</th>\n",
       "      <td>175.0</td>\n",
       "      <td>0.20</td>\n",
       "      <td>224.0</td>\n",
       "      <td>Evolve</td>\n",
       "      <td>Denver</td>\n",
       "      <td>Travel</td>\n",
       "      <td>Series F</td>\n",
       "      <td>United States</td>\n",
       "    </tr>\n",
       "  </tbody>\n",
       "</table>\n",
       "</div>"
      ],
      "text/plain": [
       "   total_laid_off  percentage_laid_off  funds_raised     company  \\\n",
       "0           237.0                 0.27        1400.0    Airtable   \n",
       "1            80.0                 0.20         112.0          R3   \n",
       "2            80.0                 0.40         301.0  Akili Labs   \n",
       "3            80.0                 0.17          26.0      Google   \n",
       "4           175.0                 0.20         224.0      Evolve   \n",
       "\n",
       "        location    industry     stage        country  \n",
       "0    SF Bay Area     Product  Series F  United States  \n",
       "1  New York City      Crypto  Series A  United States  \n",
       "2         Boston  Healthcare  Post-IPO  United States  \n",
       "3    SF Bay Area    Consumer  Post-IPO  United States  \n",
       "4         Denver      Travel  Series F  United States  "
      ]
     },
     "execution_count": 48,
     "metadata": {},
     "output_type": "execute_result"
    }
   ],
   "source": [
    "#Combining numerical and categorical df's with no null values\n",
    "\n",
    "df_layoff_corrected = pd.concat([df_layoff_num,df_layoff_cat],axis=1,join='outer',ignore_index=False)\n",
    "df_layoff_corrected.head()"
   ]
  },
  {
   "cell_type": "code",
   "execution_count": 54,
   "id": "4129d0c7",
   "metadata": {},
   "outputs": [],
   "source": [
    "#Date column is not included in this combined dataframe as it has dtype as datetime and any which ways date column doesn't help us much toi infer about total lay offs."
   ]
  },
  {
   "cell_type": "markdown",
   "id": "bbafe612",
   "metadata": {},
   "source": [
    "### Stage VS Total laid off"
   ]
  },
  {
   "cell_type": "code",
   "execution_count": 33,
   "id": "f4acf6b4",
   "metadata": {},
   "outputs": [
    {
     "data": {
      "image/png": "[encoded data removed]",
      "text/plain": [
       "<Figure size 1008x720 with 1 Axes>"
      ]
     },
     "metadata": {
      "needs_background": "light"
     },
     "output_type": "display_data"
    }
   ],
   "source": [
    "sns.barplot(data=df_layoff_corrected,x='stage',y='total_laid_off')\n",
    "plt.xticks(rotation=45)\n",
    "plt.show()"
   ]
  },
  {
   "cell_type": "raw",
   "id": "db1ff126",
   "metadata": {},
   "source": [
    "Most laid offs are done at stage Post-IPO followed by Series J> Series I."
   ]
  },
  {
   "cell_type": "markdown",
   "id": "e1c80edc",
   "metadata": {},
   "source": [
    "### Company VS Total laid off"
   ]
  },
  {
   "cell_type": "code",
   "execution_count": 42,
   "id": "d32a85de",
   "metadata": {},
   "outputs": [
    {
     "data": {
      "text/plain": [
       "2304"
      ]
     },
     "execution_count": 42,
     "metadata": {},
     "output_type": "execute_result"
    }
   ],
   "source": [
    "df_layoff_corrected.company.nunique()  #nunique help to identify the unique country count in the dataframe"
   ]
  },
  {
   "cell_type": "raw",
   "id": "d94f1cb1",
   "metadata": {},
   "source": [
    "As the number of unique countries in the dataframe is 63, it would be difficult to display and analyse the plot between company and total laid off."
   ]
  },
  {
   "cell_type": "code",
   "execution_count": 39,
   "id": "ac38cd02",
   "metadata": {},
   "outputs": [
    {
     "data": {
      "text/plain": [
       "total_laid_off               12000.0\n",
       "percentage_laid_off             0.06\n",
       "funds_raised                    26.0\n",
       "company                       Google\n",
       "location                 SF Bay Area\n",
       "industry                    Consumer\n",
       "stage                       Post-IPO\n",
       "country                United States\n",
       "Name: 930, dtype: object"
      ]
     },
     "execution_count": 39,
     "metadata": {},
     "output_type": "execute_result"
    }
   ],
   "source": [
    "max_layoffs_country = df_layoff_corrected.loc[df_layoff_corrected['total_laid_off'].idxmax()]  \n",
    "max_layoffs_country\n",
    "#The idxmax() function in pandas is used to find the index of the maximum value"
   ]
  },
  {
   "cell_type": "code",
   "execution_count": 36,
   "id": "001f3173",
   "metadata": {},
   "outputs": [
    {
     "data": {
      "text/html": [
       "<div>\n",
       "<style scoped>\n",
       "    .dataframe tbody tr th:only-of-type {\n",
       "        vertical-align: middle;\n",
       "    }\n",
       "\n",
       "    .dataframe tbody tr th {\n",
       "        vertical-align: top;\n",
       "    }\n",
       "\n",
       "    .dataframe thead th {\n",
       "        text-align: right;\n",
       "    }\n",
       "</style>\n",
       "<table border=\"1\" class=\"dataframe\">\n",
       "  <thead>\n",
       "    <tr style=\"text-align: right;\">\n",
       "      <th></th>\n",
       "      <th>total_laid_off</th>\n",
       "      <th>percentage_laid_off</th>\n",
       "      <th>funds_raised</th>\n",
       "      <th>company</th>\n",
       "      <th>location</th>\n",
       "      <th>industry</th>\n",
       "      <th>stage</th>\n",
       "      <th>country</th>\n",
       "    </tr>\n",
       "  </thead>\n",
       "  <tbody>\n",
       "    <tr>\n",
       "      <th>930</th>\n",
       "      <td>12000.0</td>\n",
       "      <td>0.06</td>\n",
       "      <td>26.0</td>\n",
       "      <td>Google</td>\n",
       "      <td>SF Bay Area</td>\n",
       "      <td>Consumer</td>\n",
       "      <td>Post-IPO</td>\n",
       "      <td>United States</td>\n",
       "    </tr>\n",
       "  </tbody>\n",
       "</table>\n",
       "</div>"
      ],
      "text/plain": [
       "     total_laid_off  percentage_laid_off  funds_raised company     location  \\\n",
       "930         12000.0                 0.06          26.0  Google  SF Bay Area   \n",
       "\n",
       "     industry     stage        country  \n",
       "930  Consumer  Post-IPO  United States  "
      ]
     },
     "execution_count": 36,
     "metadata": {},
     "output_type": "execute_result"
    }
   ],
   "source": [
    "df_layoff_corrected[df_layoff_corrected['total_laid_off'] == 12000.0]  \n",
    "#Getting the name of the company where total_laid_off is max"
   ]
  },
  {
   "cell_type": "code",
   "execution_count": 40,
   "id": "3fca924b",
   "metadata": {},
   "outputs": [
    {
     "data": {
      "text/plain": [
       "total_laid_off                   3.0\n",
       "percentage_laid_off             0.27\n",
       "funds_raised                     2.0\n",
       "company                       Branch\n",
       "location               New York City\n",
       "industry                      Retail\n",
       "stage                           Seed\n",
       "country                United States\n",
       "Name: 2501, dtype: object"
      ]
     },
     "execution_count": 40,
     "metadata": {},
     "output_type": "execute_result"
    }
   ],
   "source": [
    "min_layoffs_country = df_layoff_corrected.loc[df_layoff_corrected['total_laid_off'].idxmin()]\n",
    "min_layoffs_country\n",
    "#The idxmin() function in pandas is used to find the index of the minimum value"
   ]
  },
  {
   "cell_type": "code",
   "execution_count": 41,
   "id": "1c9eb7b6",
   "metadata": {},
   "outputs": [
    {
     "data": {
      "text/html": [
       "<div>\n",
       "<style scoped>\n",
       "    .dataframe tbody tr th:only-of-type {\n",
       "        vertical-align: middle;\n",
       "    }\n",
       "\n",
       "    .dataframe tbody tr th {\n",
       "        vertical-align: top;\n",
       "    }\n",
       "\n",
       "    .dataframe thead th {\n",
       "        text-align: right;\n",
       "    }\n",
       "</style>\n",
       "<table border=\"1\" class=\"dataframe\">\n",
       "  <thead>\n",
       "    <tr style=\"text-align: right;\">\n",
       "      <th></th>\n",
       "      <th>total_laid_off</th>\n",
       "      <th>percentage_laid_off</th>\n",
       "      <th>funds_raised</th>\n",
       "      <th>company</th>\n",
       "      <th>location</th>\n",
       "      <th>industry</th>\n",
       "      <th>stage</th>\n",
       "      <th>country</th>\n",
       "    </tr>\n",
       "  </thead>\n",
       "  <tbody>\n",
       "    <tr>\n",
       "      <th>2501</th>\n",
       "      <td>3.0</td>\n",
       "      <td>0.27</td>\n",
       "      <td>2.0</td>\n",
       "      <td>Branch</td>\n",
       "      <td>New York City</td>\n",
       "      <td>Retail</td>\n",
       "      <td>Seed</td>\n",
       "      <td>United States</td>\n",
       "    </tr>\n",
       "  </tbody>\n",
       "</table>\n",
       "</div>"
      ],
      "text/plain": [
       "      total_laid_off  percentage_laid_off  funds_raised company  \\\n",
       "2501             3.0                 0.27           2.0  Branch   \n",
       "\n",
       "           location industry stage        country  \n",
       "2501  New York City   Retail  Seed  United States  "
      ]
     },
     "execution_count": 41,
     "metadata": {},
     "output_type": "execute_result"
    }
   ],
   "source": [
    "df_layoff_corrected[df_layoff_corrected['total_laid_off'] == 3.0]  \n",
    "#Getting the name of the company where total_laid_off is min"
   ]
  },
  {
   "cell_type": "raw",
   "id": "130ef817",
   "metadata": {},
   "source": [
    "From these outputs we can infer that Google is the country who has done maximum number of lay offs and Branch is the company who has done minumum number of lay offs."
   ]
  },
  {
   "cell_type": "markdown",
   "id": "1c954a77",
   "metadata": {},
   "source": [
    "### Funds Raised VS Total laid off"
   ]
  },
  {
   "cell_type": "code",
   "execution_count": 55,
   "id": "cf243219",
   "metadata": {},
   "outputs": [
    {
     "data": {
      "text/plain": [
       "690"
      ]
     },
     "execution_count": 55,
     "metadata": {},
     "output_type": "execute_result"
    }
   ],
   "source": [
    "df_layoff_corrected.funds_raised.nunique()"
   ]
  },
  {
   "cell_type": "code",
   "execution_count": 58,
   "id": "63281a42",
   "metadata": {},
   "outputs": [
    {
     "data": {
      "image/png": "[encoded data removed]",
      "text/plain": [
       "<Figure size 1008x720 with 1 Axes>"
      ]
     },
     "metadata": {
      "needs_background": "light"
     },
     "output_type": "display_data"
    }
   ],
   "source": [
    "sns.scatterplot(data=df_layoff_corrected,x='funds_raised',y='total_laid_off')\n",
    "plt.show()"
   ]
  },
  {
   "cell_type": "raw",
   "id": "b6611ea0",
   "metadata": {},
   "source": [
    "Again as the unique values for funds raised is 690, visually we cannot display the plot. From the above analysis between Company and total laid off we can also infer that for maximum number of layoffs the funds raised were 26 millions and for the minimum number of layoffs the funds raised were 2 millions."
   ]
  },
  {
   "cell_type": "markdown",
   "id": "f6cf9ae1",
   "metadata": {},
   "source": [
    "### Correlation plot"
   ]
  },
  {
   "cell_type": "raw",
   "id": "4b8a8fdb",
   "metadata": {},
   "source": [
    "Although we have done a pairplot however a correlation plot would help us understand better if there is any relationshiop amongst any features."
   ]
  },
  {
   "cell_type": "code",
   "execution_count": 57,
   "id": "6b52248a",
   "metadata": {},
   "outputs": [
    {
     "data": {
      "image/png": "[encoded data removed]",
      "text/plain": [
       "<Figure size 1008x720 with 2 Axes>"
      ]
     },
     "metadata": {
      "needs_background": "light"
     },
     "output_type": "display_data"
    }
   ],
   "source": [
    "sns.heatmap(df_layoff_corrected.corr(),vmin=-1.0,vmax=+1.0,annot=True)\n",
    "plt.show()"
   ]
  },
  {
   "cell_type": "raw",
   "id": "cc698d18",
   "metadata": {},
   "source": [
    "There is no considerable correlation amongst any feature."
   ]
  },
  {
   "cell_type": "markdown",
   "id": "05d76f93",
   "metadata": {},
   "source": [
    "### INSIGHTS FROM THE DATA"
   ]
  },
  {
   "cell_type": "raw",
   "id": "5e0fa7e1",
   "metadata": {},
   "source": [
    "Company: Google has had the maximum number fof layoffs.\n",
    "Location: The Netherlands has the most layoff rounds.\n",
    "Country: The USA has 8x more layoff instances than the next country, India.\n",
    "Industry: Hardware had the most layoff instances.\n",
    "Stage:Most laid offs are done at stage Post-IPO.\n",
    "Funds Raised: Most of the layoff instances had less than 500M in funds raised."
   ]
  },
  {
   "cell_type": "code",
   "execution_count": null,
   "id": "af88a24c",
   "metadata": {},
   "outputs": [],
   "source": []
  }
 ],
 "metadata": {
  "kernelspec": {
   "display_name": "Python 3 (ipykernel)",
   "language": "python",
   "name": "python3"
  },
  "language_info": {
   "codemirror_mode": {
    "name": "ipython",
    "version": 3
   },
   "file_extension": ".py",
   "mimetype": "text/x-python",
   "name": "python",
   "nbconvert_exporter": "python",
   "pygments_lexer": "ipython3",
   "version": "3.9.12"
  }
 },
 "nbformat": 4,
 "nbformat_minor": 5
}
